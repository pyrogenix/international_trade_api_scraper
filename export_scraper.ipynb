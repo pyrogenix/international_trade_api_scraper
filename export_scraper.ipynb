{
  "nbformat": 4,
  "nbformat_minor": 0,
  "metadata": {
    "colab": {
      "provenance": [],
      "toc_visible": true
    },
    "kernelspec": {
      "name": "python3",
      "display_name": "Python 3"
    },
    "language_info": {
      "name": "python"
    }
  },
  "cells": [
    {
      "cell_type": "markdown",
      "source": [
        "# Setup and initialization blocks"
      ],
      "metadata": {
        "id": "4l6L0-ZmsEO3"
      }
    },
    {
      "cell_type": "code",
      "execution_count": null,
      "metadata": {
        "id": "TWz-yIaPkkpf"
      },
      "outputs": [],
      "source": [
        "import requests\n",
        "import pandas as pd\n",
        "import os\n",
        "\n",
        "API_KEY = '0c63e782330f5e58626e87dc01cc7eb2174680c5'"
      ]
    },
    {
      "cell_type": "code",
      "source": [
        "def cols_to_str(COLS):\n",
        "    return ','.join(i for i in COLS)\n",
        "    \n",
        "def json_to_df(response):\n",
        "  return pd.DataFrame(response.json()[1:], columns=response.json()[0])\n",
        "\n",
        "def scrape_range(year,month):\n",
        "    while year < 2021:\n",
        "        m = \"{:02d}\".format(month)\n",
        "        scrape(f'{year}-{m}')\n",
        "        month += 1\n",
        "        if month == 13:\n",
        "            month=1\n",
        "            year += 1"
      ],
      "metadata": {
        "id": "_yUbBzT3rEQ7"
      },
      "execution_count": null,
      "outputs": []
    },
    {
      "cell_type": "code",
      "source": [
        "EXPORT_COLS_HS = [\n",
        "    'YEAR',\n",
        "    'MONTH',\n",
        "    'CTY_CODE',\n",
        "    'CTY_NAME',\n",
        "    'QTY_1_MO',\n",
        "    'E_COMMODITY',\n",
        "    'UNIT_QY1',\n",
        "    'ALL_VAL_MO',\n",
        "    'DISTRICT',\n",
        "    'DIST_NAME'\n",
        "]\n",
        "\n",
        "EXPORT_COLS_PORTHS = [\n",
        "    'YEAR',\n",
        "    'MONTH',\n",
        "    'PORT',\n",
        "    'PORT_NAME',\n",
        "    'CTY_CODE',\n",
        "    'E_COMMODITY',\n",
        "]"
      ],
      "metadata": {
        "id": "OdWhU3w3rFnY"
      },
      "execution_count": null,
      "outputs": []
    },
    {
      "cell_type": "markdown",
      "source": [
        "# User settings input"
      ],
      "metadata": {
        "id": "8DjQ6mQqsIvp"
      }
    },
    {
      "cell_type": "code",
      "source": [
        "ENDPOINT = 'hs' # Choose from hs or porths\n",
        "TIME = '2020-01' # Put date to scrape here, format YYYY-MM"
      ],
      "metadata": {
        "id": "uYzkVc-vrHOX"
      },
      "execution_count": null,
      "outputs": []
    },
    {
      "cell_type": "markdown",
      "source": [
        "Run this to scrape data:"
      ],
      "metadata": {
        "id": "J3tt02t-sN-q"
      }
    },
    {
      "cell_type": "code",
      "source": [
        "if ENDPOINT == 'hs':\n",
        "      EX_COL_STR = cols_to_str(EXPORT_COLS_HS)\n",
        "elif ENDPOINT == 'porths':\n",
        "      EX_COL_STR = cols_to_str(EXPORT_COLS_PORTHS)\n",
        "EXPORT_URL = f'https://api.census.gov/data/timeseries/intltrade/exports/{ENDPOINT}?get={EX_COL_STR}&key={API_KEY}&time={TIME}'\n",
        "response = requests.request(\"GET\", EXPORT_URL)\n",
        "df = json_to_df(response)\n",
        "response.close()"
      ],
      "metadata": {
        "id": "RCg81O65rtwQ"
      },
      "execution_count": null,
      "outputs": []
    },
    {
      "cell_type": "markdown",
      "source": [
        "Show resulting dataframe"
      ],
      "metadata": {
        "id": "RmMTz5KYsSpO"
      }
    },
    {
      "cell_type": "code",
      "source": [
        "df"
      ],
      "metadata": {
        "colab": {
          "base_uri": "https://localhost:8080/",
          "height": 423
        },
        "id": "SU75TsRxrxZH",
        "outputId": "2b36eaa9-61a8-43aa-b34f-1c6926adc2ef"
      },
      "execution_count": null,
      "outputs": [
        {
          "output_type": "execute_result",
          "data": {
            "text/plain": [
              "         YEAR MONTH CTY_CODE             CTY_NAME QTY_1_MO E_COMMODITY  \\\n",
              "0        2020    01     2831           GUADELOUPE        0      843120   \n",
              "1        2020    01     2831           GUADELOUPE        0      843120   \n",
              "2        2020    01     2487             ST LUCIA        0      843120   \n",
              "3        2020    01     2487             ST LUCIA        0      843120   \n",
              "4        2020    01     2484  ANTIGUA AND BARBUDA       34  4011908000   \n",
              "...       ...   ...      ...                  ...      ...         ...   \n",
              "3189646  2020    01     0025            EURO AREA      532  9705000030   \n",
              "3189647  2020    01     5820            HONG KONG     2003  9705000030   \n",
              "3189648  2020    01     0025            EURO AREA    55258  9705000030   \n",
              "3189649  2020    01     5820            HONG KONG     4149  9705000030   \n",
              "3189650  2020    01     0025            EURO AREA      821  9705000030   \n",
              "\n",
              "        UNIT_QY1 ALL_VAL_MO DISTRICT                DIST_NAME     time  \n",
              "0              -       2954       20          NEW ORLEANS, LA  2020-01  \n",
              "1              -       2954        -  TOTAL FOR ALL DISTRICTS  2020-01  \n",
              "2              -      20039        -  TOTAL FOR ALL DISTRICTS  2020-01  \n",
              "3              -      20039       52                MIAMI, FL  2020-01  \n",
              "4             NO       8504       52                MIAMI, FL  2020-01  \n",
              "...          ...        ...      ...                      ...      ...  \n",
              "3189646      CGM       8550       31            ANCHORAGE, AK  2020-01  \n",
              "3189647      CGM      77359       31            ANCHORAGE, AK  2020-01  \n",
              "3189648      CGM     821788       41            CLEVELAND, OH  2020-01  \n",
              "3189649      CGM     200428       41            CLEVELAND, OH  2020-01  \n",
              "3189650      CGM      13200       80           MAIL SHIPMENTS  2020-01  \n",
              "\n",
              "[3189651 rows x 11 columns]"
            ],
            "text/html": [
              "\n",
              "  <div id=\"df-94f8dcdd-cabb-4feb-ab5a-ea6c54682bd9\">\n",
              "    <div class=\"colab-df-container\">\n",
              "      <div>\n",
              "<style scoped>\n",
              "    .dataframe tbody tr th:only-of-type {\n",
              "        vertical-align: middle;\n",
              "    }\n",
              "\n",
              "    .dataframe tbody tr th {\n",
              "        vertical-align: top;\n",
              "    }\n",
              "\n",
              "    .dataframe thead th {\n",
              "        text-align: right;\n",
              "    }\n",
              "</style>\n",
              "<table border=\"1\" class=\"dataframe\">\n",
              "  <thead>\n",
              "    <tr style=\"text-align: right;\">\n",
              "      <th></th>\n",
              "      <th>YEAR</th>\n",
              "      <th>MONTH</th>\n",
              "      <th>CTY_CODE</th>\n",
              "      <th>CTY_NAME</th>\n",
              "      <th>QTY_1_MO</th>\n",
              "      <th>E_COMMODITY</th>\n",
              "      <th>UNIT_QY1</th>\n",
              "      <th>ALL_VAL_MO</th>\n",
              "      <th>DISTRICT</th>\n",
              "      <th>DIST_NAME</th>\n",
              "      <th>time</th>\n",
              "    </tr>\n",
              "  </thead>\n",
              "  <tbody>\n",
              "    <tr>\n",
              "      <th>0</th>\n",
              "      <td>2020</td>\n",
              "      <td>01</td>\n",
              "      <td>2831</td>\n",
              "      <td>GUADELOUPE</td>\n",
              "      <td>0</td>\n",
              "      <td>843120</td>\n",
              "      <td>-</td>\n",
              "      <td>2954</td>\n",
              "      <td>20</td>\n",
              "      <td>NEW ORLEANS, LA</td>\n",
              "      <td>2020-01</td>\n",
              "    </tr>\n",
              "    <tr>\n",
              "      <th>1</th>\n",
              "      <td>2020</td>\n",
              "      <td>01</td>\n",
              "      <td>2831</td>\n",
              "      <td>GUADELOUPE</td>\n",
              "      <td>0</td>\n",
              "      <td>843120</td>\n",
              "      <td>-</td>\n",
              "      <td>2954</td>\n",
              "      <td>-</td>\n",
              "      <td>TOTAL FOR ALL DISTRICTS</td>\n",
              "      <td>2020-01</td>\n",
              "    </tr>\n",
              "    <tr>\n",
              "      <th>2</th>\n",
              "      <td>2020</td>\n",
              "      <td>01</td>\n",
              "      <td>2487</td>\n",
              "      <td>ST LUCIA</td>\n",
              "      <td>0</td>\n",
              "      <td>843120</td>\n",
              "      <td>-</td>\n",
              "      <td>20039</td>\n",
              "      <td>-</td>\n",
              "      <td>TOTAL FOR ALL DISTRICTS</td>\n",
              "      <td>2020-01</td>\n",
              "    </tr>\n",
              "    <tr>\n",
              "      <th>3</th>\n",
              "      <td>2020</td>\n",
              "      <td>01</td>\n",
              "      <td>2487</td>\n",
              "      <td>ST LUCIA</td>\n",
              "      <td>0</td>\n",
              "      <td>843120</td>\n",
              "      <td>-</td>\n",
              "      <td>20039</td>\n",
              "      <td>52</td>\n",
              "      <td>MIAMI, FL</td>\n",
              "      <td>2020-01</td>\n",
              "    </tr>\n",
              "    <tr>\n",
              "      <th>4</th>\n",
              "      <td>2020</td>\n",
              "      <td>01</td>\n",
              "      <td>2484</td>\n",
              "      <td>ANTIGUA AND BARBUDA</td>\n",
              "      <td>34</td>\n",
              "      <td>4011908000</td>\n",
              "      <td>NO</td>\n",
              "      <td>8504</td>\n",
              "      <td>52</td>\n",
              "      <td>MIAMI, FL</td>\n",
              "      <td>2020-01</td>\n",
              "    </tr>\n",
              "    <tr>\n",
              "      <th>...</th>\n",
              "      <td>...</td>\n",
              "      <td>...</td>\n",
              "      <td>...</td>\n",
              "      <td>...</td>\n",
              "      <td>...</td>\n",
              "      <td>...</td>\n",
              "      <td>...</td>\n",
              "      <td>...</td>\n",
              "      <td>...</td>\n",
              "      <td>...</td>\n",
              "      <td>...</td>\n",
              "    </tr>\n",
              "    <tr>\n",
              "      <th>3189646</th>\n",
              "      <td>2020</td>\n",
              "      <td>01</td>\n",
              "      <td>0025</td>\n",
              "      <td>EURO AREA</td>\n",
              "      <td>532</td>\n",
              "      <td>9705000030</td>\n",
              "      <td>CGM</td>\n",
              "      <td>8550</td>\n",
              "      <td>31</td>\n",
              "      <td>ANCHORAGE, AK</td>\n",
              "      <td>2020-01</td>\n",
              "    </tr>\n",
              "    <tr>\n",
              "      <th>3189647</th>\n",
              "      <td>2020</td>\n",
              "      <td>01</td>\n",
              "      <td>5820</td>\n",
              "      <td>HONG KONG</td>\n",
              "      <td>2003</td>\n",
              "      <td>9705000030</td>\n",
              "      <td>CGM</td>\n",
              "      <td>77359</td>\n",
              "      <td>31</td>\n",
              "      <td>ANCHORAGE, AK</td>\n",
              "      <td>2020-01</td>\n",
              "    </tr>\n",
              "    <tr>\n",
              "      <th>3189648</th>\n",
              "      <td>2020</td>\n",
              "      <td>01</td>\n",
              "      <td>0025</td>\n",
              "      <td>EURO AREA</td>\n",
              "      <td>55258</td>\n",
              "      <td>9705000030</td>\n",
              "      <td>CGM</td>\n",
              "      <td>821788</td>\n",
              "      <td>41</td>\n",
              "      <td>CLEVELAND, OH</td>\n",
              "      <td>2020-01</td>\n",
              "    </tr>\n",
              "    <tr>\n",
              "      <th>3189649</th>\n",
              "      <td>2020</td>\n",
              "      <td>01</td>\n",
              "      <td>5820</td>\n",
              "      <td>HONG KONG</td>\n",
              "      <td>4149</td>\n",
              "      <td>9705000030</td>\n",
              "      <td>CGM</td>\n",
              "      <td>200428</td>\n",
              "      <td>41</td>\n",
              "      <td>CLEVELAND, OH</td>\n",
              "      <td>2020-01</td>\n",
              "    </tr>\n",
              "    <tr>\n",
              "      <th>3189650</th>\n",
              "      <td>2020</td>\n",
              "      <td>01</td>\n",
              "      <td>0025</td>\n",
              "      <td>EURO AREA</td>\n",
              "      <td>821</td>\n",
              "      <td>9705000030</td>\n",
              "      <td>CGM</td>\n",
              "      <td>13200</td>\n",
              "      <td>80</td>\n",
              "      <td>MAIL SHIPMENTS</td>\n",
              "      <td>2020-01</td>\n",
              "    </tr>\n",
              "  </tbody>\n",
              "</table>\n",
              "<p>3189651 rows × 11 columns</p>\n",
              "</div>\n",
              "      <button class=\"colab-df-convert\" onclick=\"convertToInteractive('df-94f8dcdd-cabb-4feb-ab5a-ea6c54682bd9')\"\n",
              "              title=\"Convert this dataframe to an interactive table.\"\n",
              "              style=\"display:none;\">\n",
              "        \n",
              "  <svg xmlns=\"http://www.w3.org/2000/svg\" height=\"24px\"viewBox=\"0 0 24 24\"\n",
              "       width=\"24px\">\n",
              "    <path d=\"M0 0h24v24H0V0z\" fill=\"none\"/>\n",
              "    <path d=\"M18.56 5.44l.94 2.06.94-2.06 2.06-.94-2.06-.94-.94-2.06-.94 2.06-2.06.94zm-11 1L8.5 8.5l.94-2.06 2.06-.94-2.06-.94L8.5 2.5l-.94 2.06-2.06.94zm10 10l.94 2.06.94-2.06 2.06-.94-2.06-.94-.94-2.06-.94 2.06-2.06.94z\"/><path d=\"M17.41 7.96l-1.37-1.37c-.4-.4-.92-.59-1.43-.59-.52 0-1.04.2-1.43.59L10.3 9.45l-7.72 7.72c-.78.78-.78 2.05 0 2.83L4 21.41c.39.39.9.59 1.41.59.51 0 1.02-.2 1.41-.59l7.78-7.78 2.81-2.81c.8-.78.8-2.07 0-2.86zM5.41 20L4 18.59l7.72-7.72 1.47 1.35L5.41 20z\"/>\n",
              "  </svg>\n",
              "      </button>\n",
              "      \n",
              "  <style>\n",
              "    .colab-df-container {\n",
              "      display:flex;\n",
              "      flex-wrap:wrap;\n",
              "      gap: 12px;\n",
              "    }\n",
              "\n",
              "    .colab-df-convert {\n",
              "      background-color: #E8F0FE;\n",
              "      border: none;\n",
              "      border-radius: 50%;\n",
              "      cursor: pointer;\n",
              "      display: none;\n",
              "      fill: #1967D2;\n",
              "      height: 32px;\n",
              "      padding: 0 0 0 0;\n",
              "      width: 32px;\n",
              "    }\n",
              "\n",
              "    .colab-df-convert:hover {\n",
              "      background-color: #E2EBFA;\n",
              "      box-shadow: 0px 1px 2px rgba(60, 64, 67, 0.3), 0px 1px 3px 1px rgba(60, 64, 67, 0.15);\n",
              "      fill: #174EA6;\n",
              "    }\n",
              "\n",
              "    [theme=dark] .colab-df-convert {\n",
              "      background-color: #3B4455;\n",
              "      fill: #D2E3FC;\n",
              "    }\n",
              "\n",
              "    [theme=dark] .colab-df-convert:hover {\n",
              "      background-color: #434B5C;\n",
              "      box-shadow: 0px 1px 3px 1px rgba(0, 0, 0, 0.15);\n",
              "      filter: drop-shadow(0px 1px 2px rgba(0, 0, 0, 0.3));\n",
              "      fill: #FFFFFF;\n",
              "    }\n",
              "  </style>\n",
              "\n",
              "      <script>\n",
              "        const buttonEl =\n",
              "          document.querySelector('#df-94f8dcdd-cabb-4feb-ab5a-ea6c54682bd9 button.colab-df-convert');\n",
              "        buttonEl.style.display =\n",
              "          google.colab.kernel.accessAllowed ? 'block' : 'none';\n",
              "\n",
              "        async function convertToInteractive(key) {\n",
              "          const element = document.querySelector('#df-94f8dcdd-cabb-4feb-ab5a-ea6c54682bd9');\n",
              "          const dataTable =\n",
              "            await google.colab.kernel.invokeFunction('convertToInteractive',\n",
              "                                                     [key], {});\n",
              "          if (!dataTable) return;\n",
              "\n",
              "          const docLinkHtml = 'Like what you see? Visit the ' +\n",
              "            '<a target=\"_blank\" href=https://colab.research.google.com/notebooks/data_table.ipynb>data table notebook</a>'\n",
              "            + ' to learn more about interactive tables.';\n",
              "          element.innerHTML = '';\n",
              "          dataTable['output_type'] = 'display_data';\n",
              "          await google.colab.output.renderOutput(dataTable, element);\n",
              "          const docLink = document.createElement('div');\n",
              "          docLink.innerHTML = docLinkHtml;\n",
              "          element.appendChild(docLink);\n",
              "        }\n",
              "      </script>\n",
              "    </div>\n",
              "  </div>\n",
              "  "
            ]
          },
          "metadata": {},
          "execution_count": 6
        }
      ]
    },
    {
      "cell_type": "markdown",
      "source": [
        "Download dataframe as CSV"
      ],
      "metadata": {
        "id": "UC0749ZqskhS"
      }
    },
    {
      "cell_type": "code",
      "source": [
        "from google.colab import files\n",
        "df.to_csv('output.csv', encoding = 'utf-8-sig') \n",
        "files.download('output.csv')"
      ],
      "metadata": {
        "colab": {
          "base_uri": "https://localhost:8080/",
          "height": 34
        },
        "id": "nnJeiarHsgbB",
        "outputId": "f55b9c64-cd0f-4237-cff2-4c5b0085a2cd"
      },
      "execution_count": null,
      "outputs": [
        {
          "output_type": "display_data",
          "data": {
            "text/plain": [
              "<IPython.core.display.Javascript object>"
            ],
            "application/javascript": [
              "\n",
              "    async function download(id, filename, size) {\n",
              "      if (!google.colab.kernel.accessAllowed) {\n",
              "        return;\n",
              "      }\n",
              "      const div = document.createElement('div');\n",
              "      const label = document.createElement('label');\n",
              "      label.textContent = `Downloading \"${filename}\": `;\n",
              "      div.appendChild(label);\n",
              "      const progress = document.createElement('progress');\n",
              "      progress.max = size;\n",
              "      div.appendChild(progress);\n",
              "      document.body.appendChild(div);\n",
              "\n",
              "      const buffers = [];\n",
              "      let downloaded = 0;\n",
              "\n",
              "      const channel = await google.colab.kernel.comms.open(id);\n",
              "      // Send a message to notify the kernel that we're ready.\n",
              "      channel.send({})\n",
              "\n",
              "      for await (const message of channel.messages) {\n",
              "        // Send a message to notify the kernel that we're ready.\n",
              "        channel.send({})\n",
              "        if (message.buffers) {\n",
              "          for (const buffer of message.buffers) {\n",
              "            buffers.push(buffer);\n",
              "            downloaded += buffer.byteLength;\n",
              "            progress.value = downloaded;\n",
              "          }\n",
              "        }\n",
              "      }\n",
              "      const blob = new Blob(buffers, {type: 'application/binary'});\n",
              "      const a = document.createElement('a');\n",
              "      a.href = window.URL.createObjectURL(blob);\n",
              "      a.download = filename;\n",
              "      div.appendChild(a);\n",
              "      a.click();\n",
              "      div.remove();\n",
              "    }\n",
              "  "
            ]
          },
          "metadata": {}
        },
        {
          "output_type": "display_data",
          "data": {
            "text/plain": [
              "<IPython.core.display.Javascript object>"
            ],
            "application/javascript": [
              "download(\"download_6dcc0f45-9b0f-42c6-af89-bbffef2fb513\", \"output.csv\", 254759772)"
            ]
          },
          "metadata": {}
        }
      ]
    }
  ]
}